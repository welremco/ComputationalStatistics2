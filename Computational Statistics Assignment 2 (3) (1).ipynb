{
 "cells": [
  {
   "cell_type": "markdown",
   "metadata": {
    "datalore": {
     "hide_input_from_viewers": true,
     "hide_output_from_viewers": true,
     "node_id": "g64UIzik1lKJPDebPGIZfk",
     "type": "MD"
    }
   },
   "source": [
    "# Show Data"
   ]
  },
  {
   "cell_type": "code",
   "execution_count": 16,
   "metadata": {
    "datalore": {
     "hide_input_from_viewers": true,
     "hide_output_from_viewers": true,
     "node_id": "BXBK4Z9JtpIOfnbwb2Gyqt",
     "type": "CODE"
    }
   },
   "outputs": [
    {
     "data": {
      "image/png": "[encoded data removed]",
      "text/plain": [
       "<Figure size 432x288 with 1 Axes>"
      ]
     },
     "metadata": {
      "needs_background": "light"
     },
     "output_type": "display_data"
    }
   ],
   "source": [
    "import numpy as np\n",
    "import pandas as pd\n",
    "from scipy.stats import pearsonr\n",
    "import matplotlib.pyplot as plt\n",
    "\n",
    "data = pd.read_csv('data.csv')\n",
    "# add a column for observation\n",
    "data.insert(loc=0, column=\"observation\", value=range(1, len(data)+1))\n",
    "\n",
    "# plot the scatter plot with observation labels\n",
    "plt.scatter(x=data['LSAT'], y=data['GPA'])\n",
    "for i in range(len(data)):\n",
    "    plt.text(data['LSAT'][i], data['GPA'][i], data['observation'][i], ha='left', va='bottom')\n",
    "\n",
    "plt.xlabel('LSAT')\n",
    "plt.ylabel('GPA')\n",
    "plt.show()"
   ]
  },
  {
   "cell_type": "markdown",
   "metadata": {
    "datalore": {
     "hide_input_from_viewers": true,
     "hide_output_from_viewers": true,
     "node_id": "KBJGD7Mh4M96yyi0T722aY",
     "type": "MD"
    }
   },
   "source": [
    "# Nonparametric bootstrap"
   ]
  },
  {
   "cell_type": "code",
   "execution_count": 17,
   "metadata": {
    "datalore": {
     "hide_input_from_viewers": true,
     "hide_output_from_viewers": true,
     "node_id": "F0okAsa2RjH87ExehrXQ1r",
     "type": "CODE"
    }
   },
   "outputs": [
    {
     "data": {
      "image/png": "[encoded data removed]",
      "text/plain": [
       "<Figure size 432x288 with 1 Axes>"
      ]
     },
     "metadata": {
      "needs_background": "light"
     },
     "output_type": "display_data"
    },
    {
     "name": "stdout",
     "output_type": "stream",
     "text": [
      "Seconds it took to run=  2.191542387008667\n"
     ]
    }
   ],
   "source": [
    "import pandas as pd\n",
    "import numpy as np\n",
    "from scipy.stats import pearsonr\n",
    "import time\n",
    "\n",
    "time1 = time.time()\n",
    "# Load data\n",
    "data = pd.read_csv('data.csv')\n",
    "\n",
    "# Extract LSAT and GPA columns\n",
    "lsat = data['LSAT'].values\n",
    "gpa = data['GPA'].values\n",
    "\n",
    "# Compute observed correlation coefficient\n",
    "obs_corr, _ = pearsonr(lsat, gpa)\n",
    "\n",
    "# Set number of bootstrap samples\n",
    "n_boot = 40000\n",
    "\n",
    "# Initialize array to store bootstrap statistics\n",
    "corr_boot = np.zeros(n_boot)\n",
    "\n",
    "# Loop over bootstrap samples\n",
    "for i in range(n_boot):\n",
    "    # Generate random indices with replacement\n",
    "    idx = np.random.choice(len(lsat), size=len(lsat), replace=True)\n",
    "\n",
    "    # Create bootstrap sample using random indices\n",
    "    bootstrap_lsat = lsat[idx]\n",
    "    bootstrap_gpa = gpa[idx]\n",
    "\n",
    "    # Compute correlation coefficient between LSAT and GPA for bootstrap sample\n",
    "    corr_boot[i], _ = pearsonr(bootstrap_lsat, bootstrap_gpa)\n",
    "\n",
    "plt.hist(corr_boot, bins=50)\n",
    "plt.show()\n",
    "time2 = time.time()\n",
    "print(\"Seconds it took to run= \", time2-time1)"
   ]
  },
  {
   "cell_type": "markdown",
   "metadata": {
    "datalore": {
     "hide_input_from_viewers": true,
     "hide_output_from_viewers": true,
     "node_id": "YPDuRczZwjuSapE4EniV50",
     "type": "MD"
    }
   },
   "source": [
    "# Complete enumeration bootstrap"
   ]
  },
  {
   "cell_type": "code",
   "execution_count": 18,
   "metadata": {
    "datalore": {
     "hide_input_from_viewers": true,
     "hide_output_from_viewers": true,
     "node_id": "zpMDwmcB0WHxuLIg3SurOm",
     "type": "CODE"
    }
   },
   "outputs": [
    {
     "data": {
      "image/png": "[encoded data removed]",
      "text/plain": [
       "<Figure size 432x288 with 1 Axes>"
      ]
     },
     "metadata": {
      "needs_background": "light"
     },
     "output_type": "display_data"
    },
    {
     "name": "stdout",
     "output_type": "stream",
     "text": [
      "Seconds it took to run=  1.7676053047180176\n"
     ]
    }
   ],
   "source": [
    "import pandas as pd\n",
    "import numpy as np\n",
    "from scipy.stats import pearsonr\n",
    "import matplotlib.pyplot as plt\n",
    "import time\n",
    "time1 = time.time()\n",
    "\n",
    "data = pd.read_csv('data.csv')\n",
    "lsat = data['LSAT'].values\n",
    "gpa = data['GPA'].values\n",
    "\n",
    "# Compute observed correlation coefficient\n",
    "obs_corr, _ = pearsonr(lsat, gpa)\n",
    "\n",
    "# Set number of bootstrap samples\n",
    "n_boot = 2**len(lsat)\n",
    "\n",
    "# Initialize array to store bootstrap statistics\n",
    "corr_boot = np.zeros(n_boot)\n",
    "\n",
    "# Loop over all possible bootstrap samples\n",
    "for i in range(n_boot):\n",
    "    # Convert i to binary and zero-pad to length of lsat\n",
    "    binary_i = np.binary_repr(i, width=len(lsat))\n",
    "\n",
    "    # Create bootstrap sample using binary index\n",
    "    bootstrap_lsat = lsat[np.array(list(binary_i)).astype(bool)]\n",
    "    bootstrap_gpa = gpa[np.array(list(binary_i)).astype(bool)]\n",
    "\n",
    "    # Check if bootstrap sample has length less than 2\n",
    "    if len(bootstrap_lsat) < 2 or len(bootstrap_gpa) < 2:\n",
    "        continue\n",
    "\n",
    "    # Compute correlation coefficient between LSAT and GPA for bootstrap sample\n",
    "    corr_boot[i], _ = pearsonr(bootstrap_lsat, bootstrap_gpa)\n",
    "\n",
    "plt.hist(corr_boot, bins=50)\n",
    "plt.show()\n",
    "time2 = time.time()\n",
    "print(\"Seconds it took to run= \", time2-time1)"
   ]
  },
  {
   "cell_type": "markdown",
   "metadata": {
    "datalore": {
     "hide_input_from_viewers": true,
     "hide_output_from_viewers": true,
     "node_id": "uBvsXPQ8gRud0bxKwEx2V9",
     "type": "MD"
    }
   },
   "source": [
    "# Gray Codes: Nonparametric Bootstrap"
   ]
  },
  {
   "cell_type": "code",
   "execution_count": 19,
   "metadata": {
    "datalore": {
     "hide_input_from_viewers": true,
     "hide_output_from_viewers": true,
     "node_id": "ZUGK0KyB793xdzHfJhu5hv",
     "type": "CODE"
    }
   },
   "outputs": [
    {
     "data": {
      "image/png": "[encoded data removed]",
      "text/plain": [
       "<Figure size 432x288 with 1 Axes>"
      ]
     },
     "metadata": {
      "needs_background": "light"
     },
     "output_type": "display_data"
    },
    {
     "name": "stdout",
     "output_type": "stream",
     "text": [
      "Seconds it took to run=  1.8019225597381592\n"
     ]
    }
   ],
   "source": [
    "import pandas as pd\n",
    "import numpy as np\n",
    "from scipy.stats import pearsonr\n",
    "import time\n",
    "\n",
    "time1 = time.time()\n",
    "\n",
    "# Load data\n",
    "data = pd.read_csv('data.csv')\n",
    "\n",
    "# Extract LSAT and GPA columns\n",
    "lsat = data['LSAT'].values\n",
    "gpa = data['GPA'].values\n",
    "\n",
    "# Compute observed correlation coefficient\n",
    "obs_corr, _ = pearsonr(lsat, gpa)\n",
    "\n",
    "# Set number of bootstrap samples\n",
    "n_lsat = len(lsat)\n",
    "n_boot = 2**n_lsat\n",
    "\n",
    "# Initialize array to store bootstrap statistics\n",
    "corr_boot = np.zeros(n_boot)\n",
    "\n",
    "# Generate Gray codes for compositions\n",
    "gray_codes = np.arange(n_boot) ^ np.arange(n_boot) // 2\n",
    "\n",
    "# Loop over Gray codes for compositions\n",
    "for i in gray_codes:\n",
    "    # Convert i to binary and zero-pad to length of lsat\n",
    "    binary_i = np.binary_repr(i, width=n_lsat)\n",
    "\n",
    "    # Create bootstrap sample using binary index\n",
    "    bootstrap_lsat = lsat[np.array(list(binary_i)).astype(bool)]\n",
    "    bootstrap_gpa = gpa[np.array(list(binary_i)).astype(bool)]\n",
    "\n",
    "    # Check if bootstrap sample has length less than 2\n",
    "    if len(bootstrap_lsat) < 2 or len(bootstrap_gpa) < 2:\n",
    "        continue\n",
    "\n",
    "    # Compute correlation coefficient between LSAT and GPA for bootstrap sample\n",
    "    corr_boot[i], _ = pearsonr(bootstrap_lsat, bootstrap_gpa)\n",
    "\n",
    "# Keep only the valid compositions\n",
    "corr_boot = corr_boot[corr_boot != 0]\n",
    "\n",
    "# Sample n_boot compositions from the valid compositions\n",
    "corr_boot = np.random.choice(corr_boot, size=n_boot, replace=True)\n",
    "\n",
    "plt.hist(corr_boot, bins=50)\n",
    "plt.show()\n",
    "\n",
    "time2 = time.time()\n",
    "print(\"Seconds it took to run= \", time2-time1)"
   ]
  },
  {
   "cell_type": "markdown",
   "metadata": {},
   "source": [
    "# Gray Codes: Complete Enumeration Bootstrap"
   ]
  },
  {
   "cell_type": "code",
   "execution_count": 20,
   "metadata": {
    "datalore": {
     "hide_input_from_viewers": true,
     "hide_output_from_viewers": true,
     "node_id": "qJjyFgNWU5261FJNO9EX63",
     "type": "CODE"
    }
   },
   "outputs": [
    {
     "data": {
      "image/png": "[encoded data removed]",
      "text/plain": [
       "<Figure size 432x288 with 1 Axes>"
      ]
     },
     "metadata": {
      "needs_background": "light"
     },
     "output_type": "display_data"
    }
   ],
   "source": [
    "from itertools import product\n",
    "import time\n",
    "time1 = time.time()\n",
    "\n",
    "data = pd.read_csv('data.csv')\n",
    "lsat = data['LSAT'].values\n",
    "gpa = data['GPA'].values\n",
    "\n",
    "# Generate Gray codes\n",
    "gray_codes = []\n",
    "for i in range(len(lsat)):\n",
    "    gray_codes.append(['0']*i + ['1'] + ['0']*(len(lsat)-i-1))\n",
    "    gray_codes.append(['1']*i + ['0'] + ['1']*(len(lsat)-i-1))\n",
    "\n",
    "# Set number of bootstrap samples\n",
    "n_boot = 2**len(lsat)\n",
    "\n",
    "# Initialize array to store bootstrap statistics\n",
    "corr_boot = np.zeros(2**len(lsat))\n",
    "\n",
    "# Loop over all possible bootstrap samples\n",
    "for i in range(n_boot):\n",
    "    # Convert i to binary and zero-pad to length of lsat\n",
    "    binary_i = np.binary_repr(i, width=len(lsat))\n",
    "\n",
    "    # Pad binary index with leading zeros to match length of lsat and gpa\n",
    "    binary_i = '0' * (len(lsat) - len(binary_i)) + binary_i\n",
    "\n",
    "    # Create bootstrap sample using binary index\n",
    "    bootstrap_lsat = lsat[np.array(list(binary_i)).astype(bool)]\n",
    "    bootstrap_gpa = gpa[np.array(list(binary_i)).astype(bool)]\n",
    "\n",
    "    # Check if bootstrap sample has length less than 2\n",
    "    if len(bootstrap_lsat) < 2 or len(bootstrap_gpa) < 2:\n",
    "        continue\n",
    "\n",
    "    # Compute correlation coefficient between LSAT and GPA for bootstrap sample\n",
    "    corr_boot[i], _ = pearsonr(bootstrap_lsat, bootstrap_gpa)\n",
    "plt.hist(corr_boot, bins=50)\n",
    "plt.show()\n"
   ]
  },
  {
   "cell_type": "markdown",
   "metadata": {},
   "source": [
    "# Potential Speedup Gray Codes"
   ]
  },
  {
   "cell_type": "markdown",
   "metadata": {},
   "source": [
    "For our case in the Complete Enumeration bootstrap, we can use gray codes for a potential speedup. When using Gray Codes for compositions, we have a dataset with 15 points for 2 columns. \n",
    "As there are 2 input variables that both have 15 different values, we can calculate that there are 225 different combinations. This can be expressed in 8 bits. Using normal binary counting you need to flip 446 bits to count from 0 to 244. For gray code this is only 225 flips. Meaning that that for going through all the different combinations gray codes perform about 49.6% less operations making it about that much faster.\n",
    "\n",
    "In our own code, there isn't a speedup for Gray Codes. We save all gray codes in a python list object. This is a very inefficient method of implementing Gray codes, since this doesn't utilize the advantages of the gray codes."
   ]
  },
  {
   "cell_type": "markdown",
   "metadata": {
    "datalore": {
     "hide_input_from_viewers": true,
     "hide_output_from_viewers": true,
     "node_id": "iRbfU9gEwH4G7dh6brBxVI",
     "type": "MD"
    }
   },
   "source": [
    "# Monte Carlo Bootstrap"
   ]
  },
  {
   "cell_type": "code",
   "execution_count": 21,
   "metadata": {
    "datalore": {
     "hide_input_from_viewers": true,
     "hide_output_from_viewers": true,
     "node_id": "sqFRLnIUEESMdKsqvbNoC9",
     "type": "CODE"
    }
   },
   "outputs": [
    {
     "data": {
      "image/png": "[encoded data removed]",
      "text/plain": [
       "<Figure size 432x288 with 1 Axes>"
      ]
     },
     "metadata": {
      "needs_background": "light"
     },
     "output_type": "display_data"
    }
   ],
   "source": [
    "data = pd.read_csv('data.csv')\n",
    "\n",
    "# Extract LSAT and GPA columns\n",
    "lsat = data['LSAT']\n",
    "gpa = data['GPA']\n",
    "\n",
    "def Monte_Carlo(lsat, gpa):\n",
    "    # Compute observed correlation coefficient\n",
    "    obs_corr, _ = pearsonr(lsat, gpa)\n",
    "\n",
    "    # Set number of Monte Carlo simulations\n",
    "    n_sims = 40000\n",
    "\n",
    "    # Initialize array to store bootstrap statistics\n",
    "    corr_sims = np.zeros(n_sims)\n",
    "\n",
    "    # Loop over simulations\n",
    "    for i in range(n_sims):\n",
    "        # Generate random sample of size n with replacement\n",
    "        sample = np.random.choice(data.index, size=len(data), replace=True)\n",
    "        # Compute correlation coefficient between LSAT and GPA for the bootstrap sample\n",
    "        corr_sims[i], _ = pearsonr(lsat.iloc[sample], gpa.iloc[sample])\n",
    "    return corr_sims\n",
    "\n",
    "corr_sims = Monte_Carlo(lsat, gpa)\n",
    "\n",
    "\n",
    "# Plot the histogram of the bootstrap statistics\n",
    "plt.hist(corr_sims, bins=50)\n",
    "plt.show()"
   ]
  },
  {
   "cell_type": "markdown",
   "metadata": {
    "datalore": {
     "hide_input_from_viewers": true,
     "hide_output_from_viewers": true,
     "node_id": "MMNQSrEDhESnwBB5pUiL3h",
     "type": "MD"
    }
   },
   "source": [
    "# Removing Outliers"
   ]
  },
  {
   "cell_type": "markdown",
   "metadata": {
    "datalore": {
     "hide_input_from_viewers": true,
     "hide_output_from_viewers": true,
     "node_id": "SWHwuITdLtbDAoCXD986eh",
     "type": "MD"
    }
   },
   "source": [
    "To find outliers we will be using the cook's distance. "
   ]
  },
  {
   "cell_type": "markdown",
   "metadata": {},
   "source": [
    "Cook's distance is a measure that identifies influential data points in regression analysis. It measures how much the regression coefficients would change if a data point is excluded, relative to the other data points in the model. A large Cook's distance indicates that the data point has a substantial impact on the model and may be an outlier or influential observation.\n"
   ]
  },
  {
   "cell_type": "code",
   "execution_count": 22,
   "metadata": {
    "datalore": {
     "hide_input_from_viewers": true,
     "hide_output_from_viewers": true,
     "node_id": "cnwyAaQ45Ctw5i5ib8kTKV",
     "type": "CODE"
    }
   },
   "outputs": [
    {
     "data": {
      "image/png": "[encoded data removed]",
      "text/plain": [
       "<Figure size 576x432 with 1 Axes>"
      ]
     },
     "metadata": {
      "needs_background": "light"
     },
     "output_type": "display_data"
    }
   ],
   "source": [
    "from statsmodels.regression.linear_model import OLS\n",
    "\n",
    "# Load data\n",
    "data = pd.read_csv(\"data.csv\")\n",
    "\n",
    "# Fit linear regression model\n",
    "X = data['LSAT']\n",
    "y = data['GPA']\n",
    "model = OLS(y, X).fit()\n",
    "\n",
    "# Calculate Cook's distance\n",
    "influence = model.get_influence()\n",
    "cook_distance, _ = influence.cooks_distance\n",
    "\n",
    "# Plot Cook's distance\n",
    "plt.figure(figsize=(8, 6))\n",
    "plt.stem(cook_distance)\n",
    "plt.xlabel(\"Observation index\")\n",
    "plt.ylabel(\"Cook's distance\")\n",
    "plt.show()"
   ]
  },
  {
   "cell_type": "markdown",
   "metadata": {},
   "source": [
    "Here we remove the outliers according to the cook's distance"
   ]
  },
  {
   "cell_type": "code",
   "execution_count": 30,
   "metadata": {
    "datalore": {
     "hide_input_from_viewers": true,
     "hide_output_from_viewers": true,
     "node_id": "EGlecvAjTokY1VuLPev4j4",
     "type": "CODE"
    }
   },
   "outputs": [
    {
     "data": {
      "image/png": "[encoded data removed]",
      "text/plain": [
       "<Figure size 432x288 with 1 Axes>"
      ]
     },
     "metadata": {
      "needs_background": "light"
     },
     "output_type": "display_data"
    }
   ],
   "source": [
    "data = pd.read_csv('data.csv')\n",
    "data = data.drop([0, 6, 9, 11])\n",
    "# reset index to ensure that it is continuous\n",
    "data = data.reset_index(drop=True)\n",
    "\n",
    "# Extract LSAT and GPA columns\n",
    "lsat = data['LSAT']\n",
    "gpa = data['GPA']\n",
    "\n",
    "def Monte_Carlo(lsat, gpa):\n",
    "    # Compute observed correlation coefficient\n",
    "    obs_corr, _ = pearsonr(lsat, gpa)\n",
    "\n",
    "    # Set number of Monte Carlo simulations\n",
    "    n_sims = 40000\n",
    "\n",
    "    # Initialize array to store bootstrap statistics\n",
    "    corr_sims = np.zeros(n_sims)\n",
    "\n",
    "    # Loop over simulations\n",
    "    for i in range(n_sims):\n",
    "        # Generate random sample of size n with replacement\n",
    "        sample = np.random.choice(data.index, size=len(data), replace=True)\n",
    "        # Compute correlation coefficient between LSAT and GPA for the bootstrap sample\n",
    "        corr_sims[i], _ = pearsonr(lsat.iloc[sample], gpa.iloc[sample])\n",
    "    return corr_sims\n",
    "\n",
    "corr_sims = Monte_Carlo(lsat, gpa)\n",
    "\n",
    "\n",
    "# Plot the histogram of the bootstrap statistics\n",
    "plt.hist(corr_sims, bins=50)\n",
    "plt.show()"
   ]
  },
  {
   "cell_type": "markdown",
   "metadata": {
    "datalore": {
     "hide_input_from_viewers": true,
     "hide_output_from_viewers": true,
     "node_id": "uCQrUotXNnOzZqnBjpFPnk",
     "type": "MD"
    }
   },
   "source": [
    "# Why there is a difference"
   ]
  },
  {
   "cell_type": "markdown",
   "metadata": {
    "datalore": {
     "hide_input_from_viewers": true,
     "hide_output_from_viewers": true,
     "node_id": "BTqhVr1p8UGNxPQTWTAnki",
     "type": "MD"
    }
   },
   "source": [
    "The Monte Carlo bootstrap and complete enumeration bootstrap are two different resampling methods that can be used to estimate the distribution of a statistic from a sample.\n",
    "\n",
    "The Monte Carlo bootstrap uses random sampling with replacement to generate a large number of bootstrap samples, whereas the complete enumeration bootstrap generates all possible bootstrap samples.\n",
    "\n",
    "Reason One: The Monte Carlo bootstrap uses random sampling, so there is always some degree of randomness in the generated bootstrap samples, whereas the complete enumeration bootstrap generates all possible samples, which may be more representative of the true population. \n",
    "Reason Two: The Monte Carlo bootstrap only generates a finite number of bootstrap samples, whereas the complete enumeration bootstrap generates all possible samples, so the latter method may be more accurate in estimating the true distribution of the statistic.\n",
    "\n",
    "We believe it is most likely due to complete enumeration bootstrap generating all possible samples, creating a more representative bootstrap of the data. In the data itself we see a few variables that have a higher "
   ]
  },
  {
   "cell_type": "markdown",
   "metadata": {
    "datalore": {
     "hide_input_from_viewers": true,
     "hide_output_from_viewers": true,
     "node_id": "3kYsnyysnrdDaiG54vYPhX",
     "type": "CODE"
    }
   },
   "source": [
    "# References"
   ]
  },
  {
   "cell_type": "markdown",
   "metadata": {},
   "source": [
    "[1]: Cook, R.D. (2011). Cook’s Distance. In: Lovric, M. (eds) International Encyclopedia of Statistical Science. Springer, Berlin, Heidelberg. https://doi.org/10.1007/978-3-642-04898-2_189\n",
    "\n",
    "[2]: Paul Klingsberg, A Gray code for compositions, Journal of Algorithms,Volume 3, Issue 1, 1982, Pages 41-44, ISSN 0196-6774, https://doi.org/10.1016/0196-6774(82)90006-2.\n",
    "\n",
    "\n"
   ]
  },
  {
   "cell_type": "code",
   "execution_count": null,
   "metadata": {},
   "outputs": [],
   "source": []
  }
 ],
 "metadata": {
  "datalore": {
   "computation_mode": "JUPYTER",
   "packages": [],
   "report_row_ids": [],
   "version": 2
  },
  "kernelspec": {
   "display_name": "Python 3 (ipykernel)",
   "language": "python",
   "name": "python3"
  },
  "language_info": {
   "codemirror_mode": {
    "name": "ipython",
    "version": 3
   },
   "file_extension": ".py",
   "mimetype": "text/x-python",
   "name": "python",
   "nbconvert_exporter": "python",
   "pygments_lexer": "ipython3",
   "version": "3.9.7"
  }
 },
 "nbformat": 4,
 "nbformat_minor": 4
}
